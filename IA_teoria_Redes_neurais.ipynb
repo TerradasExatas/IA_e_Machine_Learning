{
  "nbformat": 4,
  "nbformat_minor": 0,
  "metadata": {
    "colab": {
      "name": "IA_teoria_Redes_neurais.ipynb",
      "provenance": [],
      "authorship_tag": "ABX9TyNUaKjB+BTGBPbwwot3TJ3y"
    },
    "kernelspec": {
      "name": "python3",
      "display_name": "Python 3"
    },
    "language_info": {
      "name": "python"
    }
  },
  "cells": [
    {
      "cell_type": "code",
      "metadata": {
        "colab": {
          "base_uri": "https://localhost:8080/",
          "height": 303
        },
        "id": "0r4tNZ_2mR4U",
        "outputId": "784dfe06-e9c5-44e8-df01-b82a1f70b23e"
      },
      "source": [
        "#exemplo 1\n",
        "import numpy as np\n",
        "import matplotlib.pyplot as plt\n",
        "x = np.array([-1,2,4])\n",
        "phi=[x, x**2]\n",
        "W=np.array([2, -1])\n",
        "score=np.dot(W,phi)\n",
        "print('score= ',score)\n",
        "plt.rcParams.update({'font.size': 12})\n",
        "plt.plot(x,score,'.',markersize=12)\n",
        "xt=np.linspace(-3,6,1000)\n",
        "plt.plot(xt,W[0]*xt+W[1]*xt**2,'r--')"
      ],
      "execution_count": 1,
      "outputs": [
        {
          "output_type": "stream",
          "name": "stdout",
          "text": [
            "score=  [-3  0 -8]\n"
          ]
        },
        {
          "output_type": "execute_result",
          "data": {
            "text/plain": [
              "[<matplotlib.lines.Line2D at 0x7f1ed1ab3990>]"
            ]
          },
          "metadata": {},
          "execution_count": 1
        },
        {
          "output_type": "display_data",
          "data": {
            "image/png": "[encoded data removed]",
            "text/plain": [
              "<Figure size 432x288 with 1 Axes>"
            ]
          },
          "metadata": {
            "needs_background": "light"
          }
        }
      ]
    },
    {
      "cell_type": "code",
      "metadata": {
        "colab": {
          "base_uri": "https://localhost:8080/",
          "height": 337
        },
        "id": "CCxB29gFo2Oo",
        "outputId": "80db2f26-7d1d-4a89-f058-e71c5c7a8cbd"
      },
      "source": [
        "#exemplo 2\n",
        "import numpy as np\n",
        "import matplotlib.pyplot as plt\n",
        "\n",
        "def sigmoid(z):\n",
        "  out=1/(1+np.exp(-z))\n",
        "  return out\n",
        "\n",
        "x = np.array([2, 1, 3])\n",
        "phi=x\n",
        "W=np.array([0.5, -1, 2])\n",
        "B = -4\n",
        "score=np.dot(W,phi)+B\n",
        "print('score= ',score)\n",
        "saida=sigmoid(score)\n",
        "print('saida= ',saida)\n",
        "plt.rcParams.update({'font.size': 12})\n",
        "plt.plot(score,saida,'.',markersize=12,label='previsão')\n",
        "xt=np.linspace(-6,6,1000)\n",
        "plt.xlabel('score');plt.ylabel('saida')\n",
        "plt.plot(xt,sigmoid(xt),'r--',label='sigmoid')\n",
        "plt.grid();plt.legend()"
      ],
      "execution_count": 2,
      "outputs": [
        {
          "output_type": "stream",
          "name": "stdout",
          "text": [
            "score=  2.0\n",
            "saida=  0.8807970779778823\n"
          ]
        },
        {
          "output_type": "execute_result",
          "data": {
            "text/plain": [
              "<matplotlib.legend.Legend at 0x7f1ed7595810>"
            ]
          },
          "metadata": {},
          "execution_count": 2
        },
        {
          "output_type": "display_data",
          "data": {
            "image/png": "[encoded data removed]",
            "text/plain": [
              "<Figure size 432x288 with 1 Axes>"
            ]
          },
          "metadata": {
            "needs_background": "light"
          }
        }
      ]
    },
    {
      "cell_type": "code",
      "metadata": {
        "colab": {
          "base_uri": "https://localhost:8080/"
        },
        "id": "wjpJkE0itA4A",
        "outputId": "bee00adf-c918-4747-8885-8c58e689a2a0"
      },
      "source": [
        "#exemplo 3\n",
        "import numpy as np\n",
        "import matplotlib.pyplot as plt\n",
        "\n",
        "def relu(z):\n",
        "  return np.maximum(z,np.zeros(1))\n",
        "\n",
        "x = np.array([1, 2, 3])\n",
        "phi=x\n",
        "V1=np.array([0.1, -0.2, -0.2])\n",
        "V2=np.array([2, -1, 2])\n",
        "W=np.array([4, 1])\n",
        "Bh1 = 0\n",
        "Bh2=0\n",
        "Bsaida=1\n",
        "h1=relu(np.dot(V1,phi)+Bh1)\n",
        "h2=relu(np.dot(V2,phi)+Bh2)\n",
        "h=np.concatenate((h1,h2),axis=0)\n",
        "print('h= ',h)\n",
        "saida=np.dot(W,h)+Bsaida\n",
        "print('saida= ',saida)"
      ],
      "execution_count": 3,
      "outputs": [
        {
          "output_type": "stream",
          "name": "stdout",
          "text": [
            "h=  [0. 6.]\n",
            "saida=  7.0\n"
          ]
        }
      ]
    }
  ]
}